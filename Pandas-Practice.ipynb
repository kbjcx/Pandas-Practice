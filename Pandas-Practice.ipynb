{
 "cells": [
  {
   "cell_type": "code",
   "execution_count": 92,
   "outputs": [],
   "source": [
    "import pandas as pd\n",
    "import numpy as np"
   ],
   "metadata": {
    "collapsed": false,
    "pycharm": {
     "name": "#%%\n"
    }
   }
  },
  {
   "cell_type": "markdown",
   "source": [
    "### 导入文件"
   ],
   "metadata": {
    "collapsed": false,
    "pycharm": {
     "name": "#%% md\n"
    }
   }
  },
  {
   "cell_type": "code",
   "execution_count": 93,
   "outputs": [],
   "source": [
    "# pd.read_csv(filename) # 导入csv格式文件中的数据\n",
    "# pd.read_table(filename) # 导入有分隔符的文本 (如TSV) 中的数据\n",
    "# pd.read_excel(filename) # 导入Excel格式文件中的数据\n",
    "# pd.read_sql(query, connection_object) # 导入SQL数据表/数据库中的数据\n",
    "# pd.read_json(json_string) # 导入JSON格式的字符，URL地址或者文件中的数据\n",
    "# pd.read_html(url) # 导入经过解析的URL地址中包含的数据框 (DataFrame) 数据\n",
    "# pd.read_clipboard() # 导入系统粘贴板里面的数据\n",
    "# pd.DataFrame(dict)  # 导入Python字典 (dict) 里面的数据，其中key是数据框的表头，value是数据框的内容"
   ],
   "metadata": {
    "collapsed": false,
    "pycharm": {
     "name": "#%%\n"
    }
   }
  },
  {
   "cell_type": "markdown",
   "source": [
    "### 导出文件"
   ],
   "metadata": {
    "collapsed": false,
    "pycharm": {
     "name": "#%% md\n"
    }
   }
  },
  {
   "cell_type": "code",
   "execution_count": 94,
   "outputs": [],
   "source": [
    "# df.to_csv(filename) # 将数据框 (DataFrame)中的数据导入csv格式的文件中\n",
    "# df.to_excel(filename) # 将数据框 (DataFrame)中的数据导入Excel格式的文件中\n",
    "# df.to_sql(table_name,connection_object) # 将数据框 (DataFrame)中的数据导入SQL数据表/数据库中\n",
    "# df.to_json(filename) # 将数据框 (DataFrame)中的数据导入JSON格式的文件中"
   ],
   "metadata": {
    "collapsed": false,
    "pycharm": {
     "name": "#%%\n"
    }
   }
  },
  {
   "cell_type": "markdown",
   "source": [
    "### 创建对象"
   ],
   "metadata": {
    "collapsed": false,
    "pycharm": {
     "name": "#%% md\n"
    }
   }
  },
  {
   "cell_type": "code",
   "execution_count": 95,
   "outputs": [
    {
     "name": "stdout",
     "output_type": "stream",
     "text": [
      "          0         1         2         3         4\n",
      "0  0.481518  0.320990  0.859822  0.659500  0.179020\n",
      "1  0.742990  0.999244  0.381353  0.749087  0.112521\n",
      "2  0.100693  0.910922  0.471833  0.484699  0.866036\n",
      "3  0.998696  0.245808  0.237485  0.385962  0.096241\n",
      "4  0.829674  0.854590  0.972137  0.764162  0.626934\n",
      "5  0.499631  0.609478  0.184733  0.178607  0.912224\n",
      "6  0.586908  0.473800  0.626097  0.627188  0.002570\n",
      "7  0.712783  0.831743  0.364014  0.686319  0.965289\n",
      "8  0.359020  0.660449  0.335159  0.311369  0.448306\n",
      "9  0.737147  0.022590  0.105050  0.799658  0.077555\n",
      "------------------------------------------------------------\n",
      "0       1\n",
      "1    read\n",
      "2    2020\n",
      "dtype: object\n",
      "------------------------------------------------------------\n"
     ]
    },
    {
     "data": {
      "text/plain": "                   0         1         2         3         4\n2020-09-01  0.305794  0.725337  0.779157  0.277422  0.235774\n2020-09-02  0.526780  0.432506  0.851025  0.401547  0.326513\n2020-09-03  0.882287  0.174939  0.798689  0.611022  0.160162\n2020-09-04  0.264003  0.888040  0.735907  0.946019  0.135092\n2020-09-05  0.218982  0.462898  0.564353  0.313584  0.427181\n2020-09-06  0.127258  0.533604  0.772827  0.549697  0.269460\n2020-09-07  0.289333  0.513343  0.838674  0.946263  0.502914\n2020-09-08  0.858065  0.890670  0.623564  0.260693  0.273604\n2020-09-09  0.833224  0.502899  0.191550  0.580203  0.974595\n2020-09-10  0.915724  0.317859  0.855437  0.967171  0.338637",
      "text/html": "<div>\n<style scoped>\n    .dataframe tbody tr th:only-of-type {\n        vertical-align: middle;\n    }\n\n    .dataframe tbody tr th {\n        vertical-align: top;\n    }\n\n    .dataframe thead th {\n        text-align: right;\n    }\n</style>\n<table border=\"1\" class=\"dataframe\">\n  <thead>\n    <tr style=\"text-align: right;\">\n      <th></th>\n      <th>0</th>\n      <th>1</th>\n      <th>2</th>\n      <th>3</th>\n      <th>4</th>\n    </tr>\n  </thead>\n  <tbody>\n    <tr>\n      <th>2020-09-01</th>\n      <td>0.305794</td>\n      <td>0.725337</td>\n      <td>0.779157</td>\n      <td>0.277422</td>\n      <td>0.235774</td>\n    </tr>\n    <tr>\n      <th>2020-09-02</th>\n      <td>0.526780</td>\n      <td>0.432506</td>\n      <td>0.851025</td>\n      <td>0.401547</td>\n      <td>0.326513</td>\n    </tr>\n    <tr>\n      <th>2020-09-03</th>\n      <td>0.882287</td>\n      <td>0.174939</td>\n      <td>0.798689</td>\n      <td>0.611022</td>\n      <td>0.160162</td>\n    </tr>\n    <tr>\n      <th>2020-09-04</th>\n      <td>0.264003</td>\n      <td>0.888040</td>\n      <td>0.735907</td>\n      <td>0.946019</td>\n      <td>0.135092</td>\n    </tr>\n    <tr>\n      <th>2020-09-05</th>\n      <td>0.218982</td>\n      <td>0.462898</td>\n      <td>0.564353</td>\n      <td>0.313584</td>\n      <td>0.427181</td>\n    </tr>\n    <tr>\n      <th>2020-09-06</th>\n      <td>0.127258</td>\n      <td>0.533604</td>\n      <td>0.772827</td>\n      <td>0.549697</td>\n      <td>0.269460</td>\n    </tr>\n    <tr>\n      <th>2020-09-07</th>\n      <td>0.289333</td>\n      <td>0.513343</td>\n      <td>0.838674</td>\n      <td>0.946263</td>\n      <td>0.502914</td>\n    </tr>\n    <tr>\n      <th>2020-09-08</th>\n      <td>0.858065</td>\n      <td>0.890670</td>\n      <td>0.623564</td>\n      <td>0.260693</td>\n      <td>0.273604</td>\n    </tr>\n    <tr>\n      <th>2020-09-09</th>\n      <td>0.833224</td>\n      <td>0.502899</td>\n      <td>0.191550</td>\n      <td>0.580203</td>\n      <td>0.974595</td>\n    </tr>\n    <tr>\n      <th>2020-09-10</th>\n      <td>0.915724</td>\n      <td>0.317859</td>\n      <td>0.855437</td>\n      <td>0.967171</td>\n      <td>0.338637</td>\n    </tr>\n  </tbody>\n</table>\n</div>"
     },
     "execution_count": 95,
     "metadata": {},
     "output_type": "execute_result"
    }
   ],
   "source": [
    "df = pd.DataFrame(np.random.rand(10, 5))\n",
    "print(df)\n",
    "print('---'*20)\n",
    "my_list = [1, 'read', 2020]\n",
    "s = pd.Series(my_list)\n",
    "print(s)\n",
    "print('---'*20)\n",
    "df = pd.DataFrame(np.random.rand(10, 5))\n",
    "df.index = pd.date_range('2020/9/1', periods=df.shape[0])\n",
    "df"
   ],
   "metadata": {
    "collapsed": false,
    "pycharm": {
     "name": "#%%\n"
    }
   }
  },
  {
   "cell_type": "markdown",
   "source": [
    "### 数据的常看与检查"
   ],
   "metadata": {
    "collapsed": false,
    "pycharm": {
     "name": "#%% md\n"
    }
   }
  },
  {
   "cell_type": "code",
   "execution_count": 96,
   "outputs": [
    {
     "data": {
      "text/plain": "                   0         1         2         3         4\n2020-09-01  0.305794  0.725337  0.779157  0.277422  0.235774\n2020-09-02  0.526780  0.432506  0.851025  0.401547  0.326513\n2020-09-03  0.882287  0.174939  0.798689  0.611022  0.160162\n2020-09-04  0.264003  0.888040  0.735907  0.946019  0.135092",
      "text/html": "<div>\n<style scoped>\n    .dataframe tbody tr th:only-of-type {\n        vertical-align: middle;\n    }\n\n    .dataframe tbody tr th {\n        vertical-align: top;\n    }\n\n    .dataframe thead th {\n        text-align: right;\n    }\n</style>\n<table border=\"1\" class=\"dataframe\">\n  <thead>\n    <tr style=\"text-align: right;\">\n      <th></th>\n      <th>0</th>\n      <th>1</th>\n      <th>2</th>\n      <th>3</th>\n      <th>4</th>\n    </tr>\n  </thead>\n  <tbody>\n    <tr>\n      <th>2020-09-01</th>\n      <td>0.305794</td>\n      <td>0.725337</td>\n      <td>0.779157</td>\n      <td>0.277422</td>\n      <td>0.235774</td>\n    </tr>\n    <tr>\n      <th>2020-09-02</th>\n      <td>0.526780</td>\n      <td>0.432506</td>\n      <td>0.851025</td>\n      <td>0.401547</td>\n      <td>0.326513</td>\n    </tr>\n    <tr>\n      <th>2020-09-03</th>\n      <td>0.882287</td>\n      <td>0.174939</td>\n      <td>0.798689</td>\n      <td>0.611022</td>\n      <td>0.160162</td>\n    </tr>\n    <tr>\n      <th>2020-09-04</th>\n      <td>0.264003</td>\n      <td>0.888040</td>\n      <td>0.735907</td>\n      <td>0.946019</td>\n      <td>0.135092</td>\n    </tr>\n  </tbody>\n</table>\n</div>"
     },
     "execution_count": 96,
     "metadata": {},
     "output_type": "execute_result"
    }
   ],
   "source": [
    "df.head(4)"
   ],
   "metadata": {
    "collapsed": false,
    "pycharm": {
     "name": "#%%\n"
    }
   }
  },
  {
   "cell_type": "code",
   "execution_count": 97,
   "outputs": [
    {
     "data": {
      "text/plain": "                   0         1         2         3         4\n2020-09-07  0.289333  0.513343  0.838674  0.946263  0.502914\n2020-09-08  0.858065  0.890670  0.623564  0.260693  0.273604\n2020-09-09  0.833224  0.502899  0.191550  0.580203  0.974595\n2020-09-10  0.915724  0.317859  0.855437  0.967171  0.338637",
      "text/html": "<div>\n<style scoped>\n    .dataframe tbody tr th:only-of-type {\n        vertical-align: middle;\n    }\n\n    .dataframe tbody tr th {\n        vertical-align: top;\n    }\n\n    .dataframe thead th {\n        text-align: right;\n    }\n</style>\n<table border=\"1\" class=\"dataframe\">\n  <thead>\n    <tr style=\"text-align: right;\">\n      <th></th>\n      <th>0</th>\n      <th>1</th>\n      <th>2</th>\n      <th>3</th>\n      <th>4</th>\n    </tr>\n  </thead>\n  <tbody>\n    <tr>\n      <th>2020-09-07</th>\n      <td>0.289333</td>\n      <td>0.513343</td>\n      <td>0.838674</td>\n      <td>0.946263</td>\n      <td>0.502914</td>\n    </tr>\n    <tr>\n      <th>2020-09-08</th>\n      <td>0.858065</td>\n      <td>0.890670</td>\n      <td>0.623564</td>\n      <td>0.260693</td>\n      <td>0.273604</td>\n    </tr>\n    <tr>\n      <th>2020-09-09</th>\n      <td>0.833224</td>\n      <td>0.502899</td>\n      <td>0.191550</td>\n      <td>0.580203</td>\n      <td>0.974595</td>\n    </tr>\n    <tr>\n      <th>2020-09-10</th>\n      <td>0.915724</td>\n      <td>0.317859</td>\n      <td>0.855437</td>\n      <td>0.967171</td>\n      <td>0.338637</td>\n    </tr>\n  </tbody>\n</table>\n</div>"
     },
     "execution_count": 97,
     "metadata": {},
     "output_type": "execute_result"
    }
   ],
   "source": [
    "df.tail(4)"
   ],
   "metadata": {
    "collapsed": false,
    "pycharm": {
     "name": "#%%\n"
    }
   }
  },
  {
   "cell_type": "code",
   "execution_count": 98,
   "outputs": [
    {
     "data": {
      "text/plain": "(10, 5)"
     },
     "execution_count": 98,
     "metadata": {},
     "output_type": "execute_result"
    }
   ],
   "source": [
    "df.shape"
   ],
   "metadata": {
    "collapsed": false,
    "pycharm": {
     "name": "#%%\n"
    }
   }
  },
  {
   "cell_type": "code",
   "execution_count": 99,
   "outputs": [
    {
     "name": "stdout",
     "output_type": "stream",
     "text": [
      "<class 'pandas.core.frame.DataFrame'>\n",
      "DatetimeIndex: 10 entries, 2020-09-01 to 2020-09-10\n",
      "Freq: D\n",
      "Data columns (total 5 columns):\n",
      " #   Column  Non-Null Count  Dtype  \n",
      "---  ------  --------------  -----  \n",
      " 0   0       10 non-null     float64\n",
      " 1   1       10 non-null     float64\n",
      " 2   2       10 non-null     float64\n",
      " 3   3       10 non-null     float64\n",
      " 4   4       10 non-null     float64\n",
      "dtypes: float64(5)\n",
      "memory usage: 480.0 bytes\n"
     ]
    }
   ],
   "source": [
    "df.info() # 查看数据框 (DataFrame) 的索引、数据类型及内存信息"
   ],
   "metadata": {
    "collapsed": false,
    "pycharm": {
     "name": "#%%\n"
    }
   }
  },
  {
   "cell_type": "code",
   "execution_count": 100,
   "outputs": [
    {
     "data": {
      "text/plain": "               0          1          2          3          4\ncount  10.000000  10.000000  10.000000  10.000000  10.000000\nmean    0.522145   0.544210   0.701118   0.585362   0.364393\nstd     0.317933   0.231065   0.203183   0.282046   0.241675\nmin     0.127258   0.174939   0.191550   0.260693   0.135092\n25%     0.270336   0.440104   0.651650   0.335574   0.244196\n50%     0.416287   0.508121   0.775992   0.564950   0.300058\n75%     0.851855   0.677404   0.828678   0.862270   0.405045\nmax     0.915724   0.890670   0.855437   0.967171   0.974595",
      "text/html": "<div>\n<style scoped>\n    .dataframe tbody tr th:only-of-type {\n        vertical-align: middle;\n    }\n\n    .dataframe tbody tr th {\n        vertical-align: top;\n    }\n\n    .dataframe thead th {\n        text-align: right;\n    }\n</style>\n<table border=\"1\" class=\"dataframe\">\n  <thead>\n    <tr style=\"text-align: right;\">\n      <th></th>\n      <th>0</th>\n      <th>1</th>\n      <th>2</th>\n      <th>3</th>\n      <th>4</th>\n    </tr>\n  </thead>\n  <tbody>\n    <tr>\n      <th>count</th>\n      <td>10.000000</td>\n      <td>10.000000</td>\n      <td>10.000000</td>\n      <td>10.000000</td>\n      <td>10.000000</td>\n    </tr>\n    <tr>\n      <th>mean</th>\n      <td>0.522145</td>\n      <td>0.544210</td>\n      <td>0.701118</td>\n      <td>0.585362</td>\n      <td>0.364393</td>\n    </tr>\n    <tr>\n      <th>std</th>\n      <td>0.317933</td>\n      <td>0.231065</td>\n      <td>0.203183</td>\n      <td>0.282046</td>\n      <td>0.241675</td>\n    </tr>\n    <tr>\n      <th>min</th>\n      <td>0.127258</td>\n      <td>0.174939</td>\n      <td>0.191550</td>\n      <td>0.260693</td>\n      <td>0.135092</td>\n    </tr>\n    <tr>\n      <th>25%</th>\n      <td>0.270336</td>\n      <td>0.440104</td>\n      <td>0.651650</td>\n      <td>0.335574</td>\n      <td>0.244196</td>\n    </tr>\n    <tr>\n      <th>50%</th>\n      <td>0.416287</td>\n      <td>0.508121</td>\n      <td>0.775992</td>\n      <td>0.564950</td>\n      <td>0.300058</td>\n    </tr>\n    <tr>\n      <th>75%</th>\n      <td>0.851855</td>\n      <td>0.677404</td>\n      <td>0.828678</td>\n      <td>0.862270</td>\n      <td>0.405045</td>\n    </tr>\n    <tr>\n      <th>max</th>\n      <td>0.915724</td>\n      <td>0.890670</td>\n      <td>0.855437</td>\n      <td>0.967171</td>\n      <td>0.974595</td>\n    </tr>\n  </tbody>\n</table>\n</div>"
     },
     "execution_count": 100,
     "metadata": {},
     "output_type": "execute_result"
    }
   ],
   "source": [
    "df.describe() # 对于数据类型为数值型的列，查询其描述性统计的内容"
   ],
   "metadata": {
    "collapsed": false,
    "pycharm": {
     "name": "#%%\n"
    }
   }
  },
  {
   "cell_type": "code",
   "execution_count": 101,
   "outputs": [
    {
     "data": {
      "text/plain": "          0         1         2         3         4\n0  1.000000 -0.319105 -0.228317  0.042093  0.215004\n1 -0.319105  1.000000 -0.145109 -0.184254 -0.162553\n2 -0.228317 -0.145109  1.000000  0.260681 -0.787064\n3  0.042093 -0.184254  0.260681  1.000000  0.018644\n4  0.215004 -0.162553 -0.787064  0.018644  1.000000",
      "text/html": "<div>\n<style scoped>\n    .dataframe tbody tr th:only-of-type {\n        vertical-align: middle;\n    }\n\n    .dataframe tbody tr th {\n        vertical-align: top;\n    }\n\n    .dataframe thead th {\n        text-align: right;\n    }\n</style>\n<table border=\"1\" class=\"dataframe\">\n  <thead>\n    <tr style=\"text-align: right;\">\n      <th></th>\n      <th>0</th>\n      <th>1</th>\n      <th>2</th>\n      <th>3</th>\n      <th>4</th>\n    </tr>\n  </thead>\n  <tbody>\n    <tr>\n      <th>0</th>\n      <td>1.000000</td>\n      <td>-0.319105</td>\n      <td>-0.228317</td>\n      <td>0.042093</td>\n      <td>0.215004</td>\n    </tr>\n    <tr>\n      <th>1</th>\n      <td>-0.319105</td>\n      <td>1.000000</td>\n      <td>-0.145109</td>\n      <td>-0.184254</td>\n      <td>-0.162553</td>\n    </tr>\n    <tr>\n      <th>2</th>\n      <td>-0.228317</td>\n      <td>-0.145109</td>\n      <td>1.000000</td>\n      <td>0.260681</td>\n      <td>-0.787064</td>\n    </tr>\n    <tr>\n      <th>3</th>\n      <td>0.042093</td>\n      <td>-0.184254</td>\n      <td>0.260681</td>\n      <td>1.000000</td>\n      <td>0.018644</td>\n    </tr>\n    <tr>\n      <th>4</th>\n      <td>0.215004</td>\n      <td>-0.162553</td>\n      <td>-0.787064</td>\n      <td>0.018644</td>\n      <td>1.000000</td>\n    </tr>\n  </tbody>\n</table>\n</div>"
     },
     "execution_count": 101,
     "metadata": {},
     "output_type": "execute_result"
    }
   ],
   "source": [
    "df.corr()"
   ],
   "metadata": {
    "collapsed": false,
    "pycharm": {
     "name": "#%%\n"
    }
   }
  },
  {
   "cell_type": "code",
   "execution_count": 102,
   "outputs": [
    {
     "data": {
      "text/plain": "2020    1\n1       1\nread    1\ndtype: int64"
     },
     "execution_count": 102,
     "metadata": {},
     "output_type": "execute_result"
    }
   ],
   "source": [
    "s.value_counts(dropna=False) # 查询每个独特数据值出现次数统计"
   ],
   "metadata": {
    "collapsed": false,
    "pycharm": {
     "name": "#%%\n"
    }
   }
  },
  {
   "cell_type": "code",
   "execution_count": 103,
   "outputs": [
    {
     "data": {
      "text/plain": "            0    1    2    3    4\n0.127258  1.0  NaN  NaN  NaN  NaN\n0.135092  NaN  NaN  NaN  NaN  1.0\n0.160162  NaN  NaN  NaN  NaN  1.0\n0.174939  NaN  1.0  NaN  NaN  NaN\n0.191550  NaN  NaN  1.0  NaN  NaN\n0.218982  1.0  NaN  NaN  NaN  NaN\n0.235774  NaN  NaN  NaN  NaN  1.0\n0.260693  NaN  NaN  NaN  1.0  NaN\n0.264003  1.0  NaN  NaN  NaN  NaN\n0.269460  NaN  NaN  NaN  NaN  1.0\n0.273604  NaN  NaN  NaN  NaN  1.0\n0.277422  NaN  NaN  NaN  1.0  NaN\n0.289333  1.0  NaN  NaN  NaN  NaN\n0.305794  1.0  NaN  NaN  NaN  NaN\n0.313584  NaN  NaN  NaN  1.0  NaN\n0.317859  NaN  1.0  NaN  NaN  NaN\n0.326513  NaN  NaN  NaN  NaN  1.0\n0.338637  NaN  NaN  NaN  NaN  1.0\n0.401547  NaN  NaN  NaN  1.0  NaN\n0.427181  NaN  NaN  NaN  NaN  1.0\n0.432506  NaN  1.0  NaN  NaN  NaN\n0.462898  NaN  1.0  NaN  NaN  NaN\n0.502899  NaN  1.0  NaN  NaN  NaN\n0.502914  NaN  NaN  NaN  NaN  1.0\n0.513343  NaN  1.0  NaN  NaN  NaN\n0.526780  1.0  NaN  NaN  NaN  NaN\n0.533604  NaN  1.0  NaN  NaN  NaN\n0.549697  NaN  NaN  NaN  1.0  NaN\n0.564353  NaN  NaN  1.0  NaN  NaN\n0.580203  NaN  NaN  NaN  1.0  NaN\n0.611022  NaN  NaN  NaN  1.0  NaN\n0.623564  NaN  NaN  1.0  NaN  NaN\n0.725337  NaN  1.0  NaN  NaN  NaN\n0.735907  NaN  NaN  1.0  NaN  NaN\n0.772827  NaN  NaN  1.0  NaN  NaN\n0.779157  NaN  NaN  1.0  NaN  NaN\n0.798689  NaN  NaN  1.0  NaN  NaN\n0.833224  1.0  NaN  NaN  NaN  NaN\n0.838674  NaN  NaN  1.0  NaN  NaN\n0.851025  NaN  NaN  1.0  NaN  NaN\n0.855437  NaN  NaN  1.0  NaN  NaN\n0.858065  1.0  NaN  NaN  NaN  NaN\n0.882287  1.0  NaN  NaN  NaN  NaN\n0.888040  NaN  1.0  NaN  NaN  NaN\n0.890670  NaN  1.0  NaN  NaN  NaN\n0.915724  1.0  NaN  NaN  NaN  NaN\n0.946019  NaN  NaN  NaN  1.0  NaN\n0.946263  NaN  NaN  NaN  1.0  NaN\n0.967171  NaN  NaN  NaN  1.0  NaN\n0.974595  NaN  NaN  NaN  NaN  1.0",
      "text/html": "<div>\n<style scoped>\n    .dataframe tbody tr th:only-of-type {\n        vertical-align: middle;\n    }\n\n    .dataframe tbody tr th {\n        vertical-align: top;\n    }\n\n    .dataframe thead th {\n        text-align: right;\n    }\n</style>\n<table border=\"1\" class=\"dataframe\">\n  <thead>\n    <tr style=\"text-align: right;\">\n      <th></th>\n      <th>0</th>\n      <th>1</th>\n      <th>2</th>\n      <th>3</th>\n      <th>4</th>\n    </tr>\n  </thead>\n  <tbody>\n    <tr>\n      <th>0.127258</th>\n      <td>1.0</td>\n      <td>NaN</td>\n      <td>NaN</td>\n      <td>NaN</td>\n      <td>NaN</td>\n    </tr>\n    <tr>\n      <th>0.135092</th>\n      <td>NaN</td>\n      <td>NaN</td>\n      <td>NaN</td>\n      <td>NaN</td>\n      <td>1.0</td>\n    </tr>\n    <tr>\n      <th>0.160162</th>\n      <td>NaN</td>\n      <td>NaN</td>\n      <td>NaN</td>\n      <td>NaN</td>\n      <td>1.0</td>\n    </tr>\n    <tr>\n      <th>0.174939</th>\n      <td>NaN</td>\n      <td>1.0</td>\n      <td>NaN</td>\n      <td>NaN</td>\n      <td>NaN</td>\n    </tr>\n    <tr>\n      <th>0.191550</th>\n      <td>NaN</td>\n      <td>NaN</td>\n      <td>1.0</td>\n      <td>NaN</td>\n      <td>NaN</td>\n    </tr>\n    <tr>\n      <th>0.218982</th>\n      <td>1.0</td>\n      <td>NaN</td>\n      <td>NaN</td>\n      <td>NaN</td>\n      <td>NaN</td>\n    </tr>\n    <tr>\n      <th>0.235774</th>\n      <td>NaN</td>\n      <td>NaN</td>\n      <td>NaN</td>\n      <td>NaN</td>\n      <td>1.0</td>\n    </tr>\n    <tr>\n      <th>0.260693</th>\n      <td>NaN</td>\n      <td>NaN</td>\n      <td>NaN</td>\n      <td>1.0</td>\n      <td>NaN</td>\n    </tr>\n    <tr>\n      <th>0.264003</th>\n      <td>1.0</td>\n      <td>NaN</td>\n      <td>NaN</td>\n      <td>NaN</td>\n      <td>NaN</td>\n    </tr>\n    <tr>\n      <th>0.269460</th>\n      <td>NaN</td>\n      <td>NaN</td>\n      <td>NaN</td>\n      <td>NaN</td>\n      <td>1.0</td>\n    </tr>\n    <tr>\n      <th>0.273604</th>\n      <td>NaN</td>\n      <td>NaN</td>\n      <td>NaN</td>\n      <td>NaN</td>\n      <td>1.0</td>\n    </tr>\n    <tr>\n      <th>0.277422</th>\n      <td>NaN</td>\n      <td>NaN</td>\n      <td>NaN</td>\n      <td>1.0</td>\n      <td>NaN</td>\n    </tr>\n    <tr>\n      <th>0.289333</th>\n      <td>1.0</td>\n      <td>NaN</td>\n      <td>NaN</td>\n      <td>NaN</td>\n      <td>NaN</td>\n    </tr>\n    <tr>\n      <th>0.305794</th>\n      <td>1.0</td>\n      <td>NaN</td>\n      <td>NaN</td>\n      <td>NaN</td>\n      <td>NaN</td>\n    </tr>\n    <tr>\n      <th>0.313584</th>\n      <td>NaN</td>\n      <td>NaN</td>\n      <td>NaN</td>\n      <td>1.0</td>\n      <td>NaN</td>\n    </tr>\n    <tr>\n      <th>0.317859</th>\n      <td>NaN</td>\n      <td>1.0</td>\n      <td>NaN</td>\n      <td>NaN</td>\n      <td>NaN</td>\n    </tr>\n    <tr>\n      <th>0.326513</th>\n      <td>NaN</td>\n      <td>NaN</td>\n      <td>NaN</td>\n      <td>NaN</td>\n      <td>1.0</td>\n    </tr>\n    <tr>\n      <th>0.338637</th>\n      <td>NaN</td>\n      <td>NaN</td>\n      <td>NaN</td>\n      <td>NaN</td>\n      <td>1.0</td>\n    </tr>\n    <tr>\n      <th>0.401547</th>\n      <td>NaN</td>\n      <td>NaN</td>\n      <td>NaN</td>\n      <td>1.0</td>\n      <td>NaN</td>\n    </tr>\n    <tr>\n      <th>0.427181</th>\n      <td>NaN</td>\n      <td>NaN</td>\n      <td>NaN</td>\n      <td>NaN</td>\n      <td>1.0</td>\n    </tr>\n    <tr>\n      <th>0.432506</th>\n      <td>NaN</td>\n      <td>1.0</td>\n      <td>NaN</td>\n      <td>NaN</td>\n      <td>NaN</td>\n    </tr>\n    <tr>\n      <th>0.462898</th>\n      <td>NaN</td>\n      <td>1.0</td>\n      <td>NaN</td>\n      <td>NaN</td>\n      <td>NaN</td>\n    </tr>\n    <tr>\n      <th>0.502899</th>\n      <td>NaN</td>\n      <td>1.0</td>\n      <td>NaN</td>\n      <td>NaN</td>\n      <td>NaN</td>\n    </tr>\n    <tr>\n      <th>0.502914</th>\n      <td>NaN</td>\n      <td>NaN</td>\n      <td>NaN</td>\n      <td>NaN</td>\n      <td>1.0</td>\n    </tr>\n    <tr>\n      <th>0.513343</th>\n      <td>NaN</td>\n      <td>1.0</td>\n      <td>NaN</td>\n      <td>NaN</td>\n      <td>NaN</td>\n    </tr>\n    <tr>\n      <th>0.526780</th>\n      <td>1.0</td>\n      <td>NaN</td>\n      <td>NaN</td>\n      <td>NaN</td>\n      <td>NaN</td>\n    </tr>\n    <tr>\n      <th>0.533604</th>\n      <td>NaN</td>\n      <td>1.0</td>\n      <td>NaN</td>\n      <td>NaN</td>\n      <td>NaN</td>\n    </tr>\n    <tr>\n      <th>0.549697</th>\n      <td>NaN</td>\n      <td>NaN</td>\n      <td>NaN</td>\n      <td>1.0</td>\n      <td>NaN</td>\n    </tr>\n    <tr>\n      <th>0.564353</th>\n      <td>NaN</td>\n      <td>NaN</td>\n      <td>1.0</td>\n      <td>NaN</td>\n      <td>NaN</td>\n    </tr>\n    <tr>\n      <th>0.580203</th>\n      <td>NaN</td>\n      <td>NaN</td>\n      <td>NaN</td>\n      <td>1.0</td>\n      <td>NaN</td>\n    </tr>\n    <tr>\n      <th>0.611022</th>\n      <td>NaN</td>\n      <td>NaN</td>\n      <td>NaN</td>\n      <td>1.0</td>\n      <td>NaN</td>\n    </tr>\n    <tr>\n      <th>0.623564</th>\n      <td>NaN</td>\n      <td>NaN</td>\n      <td>1.0</td>\n      <td>NaN</td>\n      <td>NaN</td>\n    </tr>\n    <tr>\n      <th>0.725337</th>\n      <td>NaN</td>\n      <td>1.0</td>\n      <td>NaN</td>\n      <td>NaN</td>\n      <td>NaN</td>\n    </tr>\n    <tr>\n      <th>0.735907</th>\n      <td>NaN</td>\n      <td>NaN</td>\n      <td>1.0</td>\n      <td>NaN</td>\n      <td>NaN</td>\n    </tr>\n    <tr>\n      <th>0.772827</th>\n      <td>NaN</td>\n      <td>NaN</td>\n      <td>1.0</td>\n      <td>NaN</td>\n      <td>NaN</td>\n    </tr>\n    <tr>\n      <th>0.779157</th>\n      <td>NaN</td>\n      <td>NaN</td>\n      <td>1.0</td>\n      <td>NaN</td>\n      <td>NaN</td>\n    </tr>\n    <tr>\n      <th>0.798689</th>\n      <td>NaN</td>\n      <td>NaN</td>\n      <td>1.0</td>\n      <td>NaN</td>\n      <td>NaN</td>\n    </tr>\n    <tr>\n      <th>0.833224</th>\n      <td>1.0</td>\n      <td>NaN</td>\n      <td>NaN</td>\n      <td>NaN</td>\n      <td>NaN</td>\n    </tr>\n    <tr>\n      <th>0.838674</th>\n      <td>NaN</td>\n      <td>NaN</td>\n      <td>1.0</td>\n      <td>NaN</td>\n      <td>NaN</td>\n    </tr>\n    <tr>\n      <th>0.851025</th>\n      <td>NaN</td>\n      <td>NaN</td>\n      <td>1.0</td>\n      <td>NaN</td>\n      <td>NaN</td>\n    </tr>\n    <tr>\n      <th>0.855437</th>\n      <td>NaN</td>\n      <td>NaN</td>\n      <td>1.0</td>\n      <td>NaN</td>\n      <td>NaN</td>\n    </tr>\n    <tr>\n      <th>0.858065</th>\n      <td>1.0</td>\n      <td>NaN</td>\n      <td>NaN</td>\n      <td>NaN</td>\n      <td>NaN</td>\n    </tr>\n    <tr>\n      <th>0.882287</th>\n      <td>1.0</td>\n      <td>NaN</td>\n      <td>NaN</td>\n      <td>NaN</td>\n      <td>NaN</td>\n    </tr>\n    <tr>\n      <th>0.888040</th>\n      <td>NaN</td>\n      <td>1.0</td>\n      <td>NaN</td>\n      <td>NaN</td>\n      <td>NaN</td>\n    </tr>\n    <tr>\n      <th>0.890670</th>\n      <td>NaN</td>\n      <td>1.0</td>\n      <td>NaN</td>\n      <td>NaN</td>\n      <td>NaN</td>\n    </tr>\n    <tr>\n      <th>0.915724</th>\n      <td>1.0</td>\n      <td>NaN</td>\n      <td>NaN</td>\n      <td>NaN</td>\n      <td>NaN</td>\n    </tr>\n    <tr>\n      <th>0.946019</th>\n      <td>NaN</td>\n      <td>NaN</td>\n      <td>NaN</td>\n      <td>1.0</td>\n      <td>NaN</td>\n    </tr>\n    <tr>\n      <th>0.946263</th>\n      <td>NaN</td>\n      <td>NaN</td>\n      <td>NaN</td>\n      <td>1.0</td>\n      <td>NaN</td>\n    </tr>\n    <tr>\n      <th>0.967171</th>\n      <td>NaN</td>\n      <td>NaN</td>\n      <td>NaN</td>\n      <td>1.0</td>\n      <td>NaN</td>\n    </tr>\n    <tr>\n      <th>0.974595</th>\n      <td>NaN</td>\n      <td>NaN</td>\n      <td>NaN</td>\n      <td>NaN</td>\n      <td>1.0</td>\n    </tr>\n  </tbody>\n</table>\n</div>"
     },
     "execution_count": 103,
     "metadata": {},
     "output_type": "execute_result"
    }
   ],
   "source": [
    "df.apply(pd.Series.value_counts) # 查询数据框 (Data Frame) 中每个列的独特数据值出现次数统计"
   ],
   "metadata": {
    "collapsed": false,
    "pycharm": {
     "name": "#%%\n"
    }
   }
  },
  {
   "cell_type": "markdown",
   "source": [
    "### 数据的选取"
   ],
   "metadata": {
    "collapsed": false,
    "pycharm": {
     "name": "#%% md\n"
    }
   }
  },
  {
   "cell_type": "code",
   "execution_count": 104,
   "outputs": [
    {
     "data": {
      "text/plain": "0    0.722138\n1    0.167416\n2    0.946169\n3    0.212083\n4    0.851427\nName: B, dtype: float64"
     },
     "execution_count": 104,
     "metadata": {},
     "output_type": "execute_result"
    }
   ],
   "source": [
    "df = pd.DataFrame(np.random.rand(5,5),columns=list('ABCDE'))\n",
    "df['B']"
   ],
   "metadata": {
    "collapsed": false,
    "pycharm": {
     "name": "#%%\n"
    }
   }
  },
  {
   "cell_type": "code",
   "execution_count": 105,
   "outputs": [
    {
     "data": {
      "text/plain": "          B         C\n0  0.722138  0.833450\n1  0.167416  0.063500\n2  0.946169  0.502517\n3  0.212083  0.557890\n4  0.851427  0.009659",
      "text/html": "<div>\n<style scoped>\n    .dataframe tbody tr th:only-of-type {\n        vertical-align: middle;\n    }\n\n    .dataframe tbody tr th {\n        vertical-align: top;\n    }\n\n    .dataframe thead th {\n        text-align: right;\n    }\n</style>\n<table border=\"1\" class=\"dataframe\">\n  <thead>\n    <tr style=\"text-align: right;\">\n      <th></th>\n      <th>B</th>\n      <th>C</th>\n    </tr>\n  </thead>\n  <tbody>\n    <tr>\n      <th>0</th>\n      <td>0.722138</td>\n      <td>0.833450</td>\n    </tr>\n    <tr>\n      <th>1</th>\n      <td>0.167416</td>\n      <td>0.063500</td>\n    </tr>\n    <tr>\n      <th>2</th>\n      <td>0.946169</td>\n      <td>0.502517</td>\n    </tr>\n    <tr>\n      <th>3</th>\n      <td>0.212083</td>\n      <td>0.557890</td>\n    </tr>\n    <tr>\n      <th>4</th>\n      <td>0.851427</td>\n      <td>0.009659</td>\n    </tr>\n  </tbody>\n</table>\n</div>"
     },
     "execution_count": 105,
     "metadata": {},
     "output_type": "execute_result"
    }
   ],
   "source": [
    "df[['B', 'C']] # 以新的数据框(DataFrame)的形式返回选取的列"
   ],
   "metadata": {
    "collapsed": false,
    "pycharm": {
     "name": "#%%\n"
    }
   }
  },
  {
   "cell_type": "code",
   "execution_count": 106,
   "outputs": [
    {
     "data": {
      "text/plain": "'read'"
     },
     "execution_count": 106,
     "metadata": {},
     "output_type": "execute_result"
    }
   ],
   "source": [
    "s.iloc[1]  # 按照位置选取"
   ],
   "metadata": {
    "collapsed": false,
    "pycharm": {
     "name": "#%%\n"
    }
   }
  },
  {
   "cell_type": "code",
   "execution_count": 107,
   "outputs": [
    {
     "data": {
      "text/plain": "'read'"
     },
     "execution_count": 107,
     "metadata": {},
     "output_type": "execute_result"
    }
   ],
   "source": [
    "s.loc[1]"
   ],
   "metadata": {
    "collapsed": false,
    "pycharm": {
     "name": "#%%\n"
    }
   }
  },
  {
   "cell_type": "code",
   "execution_count": 108,
   "outputs": [
    {
     "data": {
      "text/plain": "0.7221375416154903"
     },
     "execution_count": 108,
     "metadata": {},
     "output_type": "execute_result"
    }
   ],
   "source": [
    "df.loc[0, 'B']"
   ],
   "metadata": {
    "collapsed": false,
    "pycharm": {
     "name": "#%%\n"
    }
   }
  },
  {
   "cell_type": "code",
   "execution_count": 109,
   "outputs": [
    {
     "data": {
      "text/plain": "0.7221375416154903"
     },
     "execution_count": 109,
     "metadata": {},
     "output_type": "execute_result"
    }
   ],
   "source": [
    "df.iloc[0, 1]"
   ],
   "metadata": {
    "collapsed": false,
    "pycharm": {
     "name": "#%%\n"
    }
   }
  },
  {
   "cell_type": "markdown",
   "source": [
    "### 数据的清洗"
   ],
   "metadata": {
    "collapsed": false,
    "pycharm": {
     "name": "#%% md\n"
    }
   }
  },
  {
   "cell_type": "code",
   "execution_count": 110,
   "outputs": [
    {
     "data": {
      "text/plain": "              a    b    c\n2020-09-29  1.0  NaN  foo\n2020-09-30  NaN  4.0  foo\n2020-10-01  2.0  NaN  foo\n2020-10-02  3.0  5.0  foo\n2020-10-03  6.0  9.0  foo\n2020-10-04  NaN  NaN  foo",
      "text/html": "<div>\n<style scoped>\n    .dataframe tbody tr th:only-of-type {\n        vertical-align: middle;\n    }\n\n    .dataframe tbody tr th {\n        vertical-align: top;\n    }\n\n    .dataframe thead th {\n        text-align: right;\n    }\n</style>\n<table border=\"1\" class=\"dataframe\">\n  <thead>\n    <tr style=\"text-align: right;\">\n      <th></th>\n      <th>a</th>\n      <th>b</th>\n      <th>c</th>\n    </tr>\n  </thead>\n  <tbody>\n    <tr>\n      <th>2020-09-29</th>\n      <td>1.0</td>\n      <td>NaN</td>\n      <td>foo</td>\n    </tr>\n    <tr>\n      <th>2020-09-30</th>\n      <td>NaN</td>\n      <td>4.0</td>\n      <td>foo</td>\n    </tr>\n    <tr>\n      <th>2020-10-01</th>\n      <td>2.0</td>\n      <td>NaN</td>\n      <td>foo</td>\n    </tr>\n    <tr>\n      <th>2020-10-02</th>\n      <td>3.0</td>\n      <td>5.0</td>\n      <td>foo</td>\n    </tr>\n    <tr>\n      <th>2020-10-03</th>\n      <td>6.0</td>\n      <td>9.0</td>\n      <td>foo</td>\n    </tr>\n    <tr>\n      <th>2020-10-04</th>\n      <td>NaN</td>\n      <td>NaN</td>\n      <td>foo</td>\n    </tr>\n  </tbody>\n</table>\n</div>"
     },
     "execution_count": 110,
     "metadata": {},
     "output_type": "execute_result"
    }
   ],
   "source": [
    "df = pd.DataFrame({'A':np.array([1,np.nan,2,3,6,np.nan]),\n",
    "                 'B':np.array([np.nan,4,np.nan,5,9,np.nan]),\n",
    "                  'C':'foo'})\n",
    "df.columns = ['a','b','c']\n",
    "df.index = pd.date_range('2020/9/29', periods=df.shape[0])\n",
    "df"
   ],
   "metadata": {
    "collapsed": false,
    "pycharm": {
     "name": "#%%\n"
    }
   }
  },
  {
   "cell_type": "code",
   "execution_count": 111,
   "outputs": [
    {
     "data": {
      "text/plain": "                a      b      c\n2020-09-29  False   True  False\n2020-09-30   True  False  False\n2020-10-01  False   True  False\n2020-10-02  False  False  False\n2020-10-03  False  False  False\n2020-10-04   True   True  False",
      "text/html": "<div>\n<style scoped>\n    .dataframe tbody tr th:only-of-type {\n        vertical-align: middle;\n    }\n\n    .dataframe tbody tr th {\n        vertical-align: top;\n    }\n\n    .dataframe thead th {\n        text-align: right;\n    }\n</style>\n<table border=\"1\" class=\"dataframe\">\n  <thead>\n    <tr style=\"text-align: right;\">\n      <th></th>\n      <th>a</th>\n      <th>b</th>\n      <th>c</th>\n    </tr>\n  </thead>\n  <tbody>\n    <tr>\n      <th>2020-09-29</th>\n      <td>False</td>\n      <td>True</td>\n      <td>False</td>\n    </tr>\n    <tr>\n      <th>2020-09-30</th>\n      <td>True</td>\n      <td>False</td>\n      <td>False</td>\n    </tr>\n    <tr>\n      <th>2020-10-01</th>\n      <td>False</td>\n      <td>True</td>\n      <td>False</td>\n    </tr>\n    <tr>\n      <th>2020-10-02</th>\n      <td>False</td>\n      <td>False</td>\n      <td>False</td>\n    </tr>\n    <tr>\n      <th>2020-10-03</th>\n      <td>False</td>\n      <td>False</td>\n      <td>False</td>\n    </tr>\n    <tr>\n      <th>2020-10-04</th>\n      <td>True</td>\n      <td>True</td>\n      <td>False</td>\n    </tr>\n  </tbody>\n</table>\n</div>"
     },
     "execution_count": 111,
     "metadata": {},
     "output_type": "execute_result"
    }
   ],
   "source": [
    "df.isnull()"
   ],
   "metadata": {
    "collapsed": false,
    "pycharm": {
     "name": "#%%\n"
    }
   }
  },
  {
   "cell_type": "code",
   "execution_count": 112,
   "outputs": [
    {
     "data": {
      "text/plain": "                a      b     c\n2020-09-29   True  False  True\n2020-09-30  False   True  True\n2020-10-01   True  False  True\n2020-10-02   True   True  True\n2020-10-03   True   True  True\n2020-10-04  False  False  True",
      "text/html": "<div>\n<style scoped>\n    .dataframe tbody tr th:only-of-type {\n        vertical-align: middle;\n    }\n\n    .dataframe tbody tr th {\n        vertical-align: top;\n    }\n\n    .dataframe thead th {\n        text-align: right;\n    }\n</style>\n<table border=\"1\" class=\"dataframe\">\n  <thead>\n    <tr style=\"text-align: right;\">\n      <th></th>\n      <th>a</th>\n      <th>b</th>\n      <th>c</th>\n    </tr>\n  </thead>\n  <tbody>\n    <tr>\n      <th>2020-09-29</th>\n      <td>True</td>\n      <td>False</td>\n      <td>True</td>\n    </tr>\n    <tr>\n      <th>2020-09-30</th>\n      <td>False</td>\n      <td>True</td>\n      <td>True</td>\n    </tr>\n    <tr>\n      <th>2020-10-01</th>\n      <td>True</td>\n      <td>False</td>\n      <td>True</td>\n    </tr>\n    <tr>\n      <th>2020-10-02</th>\n      <td>True</td>\n      <td>True</td>\n      <td>True</td>\n    </tr>\n    <tr>\n      <th>2020-10-03</th>\n      <td>True</td>\n      <td>True</td>\n      <td>True</td>\n    </tr>\n    <tr>\n      <th>2020-10-04</th>\n      <td>False</td>\n      <td>False</td>\n      <td>True</td>\n    </tr>\n  </tbody>\n</table>\n</div>"
     },
     "execution_count": 112,
     "metadata": {},
     "output_type": "execute_result"
    }
   ],
   "source": [
    "df.notnull()"
   ],
   "metadata": {
    "collapsed": false,
    "pycharm": {
     "name": "#%%\n"
    }
   }
  },
  {
   "cell_type": "code",
   "execution_count": 113,
   "outputs": [
    {
     "data": {
      "text/plain": "              a    b    c\n2020-10-02  3.0  5.0  foo\n2020-10-03  6.0  9.0  foo",
      "text/html": "<div>\n<style scoped>\n    .dataframe tbody tr th:only-of-type {\n        vertical-align: middle;\n    }\n\n    .dataframe tbody tr th {\n        vertical-align: top;\n    }\n\n    .dataframe thead th {\n        text-align: right;\n    }\n</style>\n<table border=\"1\" class=\"dataframe\">\n  <thead>\n    <tr style=\"text-align: right;\">\n      <th></th>\n      <th>a</th>\n      <th>b</th>\n      <th>c</th>\n    </tr>\n  </thead>\n  <tbody>\n    <tr>\n      <th>2020-10-02</th>\n      <td>3.0</td>\n      <td>5.0</td>\n      <td>foo</td>\n    </tr>\n    <tr>\n      <th>2020-10-03</th>\n      <td>6.0</td>\n      <td>9.0</td>\n      <td>foo</td>\n    </tr>\n  </tbody>\n</table>\n</div>"
     },
     "execution_count": 113,
     "metadata": {},
     "output_type": "execute_result"
    }
   ],
   "source": [
    "df.dropna() # 移除数据框 DataFrame 中包含空值的行"
   ],
   "metadata": {
    "collapsed": false,
    "pycharm": {
     "name": "#%%\n"
    }
   }
  },
  {
   "cell_type": "code",
   "execution_count": 114,
   "outputs": [
    {
     "data": {
      "text/plain": "              c\n2020-09-29  foo\n2020-09-30  foo\n2020-10-01  foo\n2020-10-02  foo\n2020-10-03  foo\n2020-10-04  foo",
      "text/html": "<div>\n<style scoped>\n    .dataframe tbody tr th:only-of-type {\n        vertical-align: middle;\n    }\n\n    .dataframe tbody tr th {\n        vertical-align: top;\n    }\n\n    .dataframe thead th {\n        text-align: right;\n    }\n</style>\n<table border=\"1\" class=\"dataframe\">\n  <thead>\n    <tr style=\"text-align: right;\">\n      <th></th>\n      <th>c</th>\n    </tr>\n  </thead>\n  <tbody>\n    <tr>\n      <th>2020-09-29</th>\n      <td>foo</td>\n    </tr>\n    <tr>\n      <th>2020-09-30</th>\n      <td>foo</td>\n    </tr>\n    <tr>\n      <th>2020-10-01</th>\n      <td>foo</td>\n    </tr>\n    <tr>\n      <th>2020-10-02</th>\n      <td>foo</td>\n    </tr>\n    <tr>\n      <th>2020-10-03</th>\n      <td>foo</td>\n    </tr>\n    <tr>\n      <th>2020-10-04</th>\n      <td>foo</td>\n    </tr>\n  </tbody>\n</table>\n</div>"
     },
     "execution_count": 114,
     "metadata": {},
     "output_type": "execute_result"
    }
   ],
   "source": [
    "df.dropna(axis=1)"
   ],
   "metadata": {
    "collapsed": false,
    "pycharm": {
     "name": "#%%\n"
    }
   }
  },
  {
   "cell_type": "code",
   "execution_count": 115,
   "outputs": [
    {
     "data": {
      "text/plain": "              a    c\n2020-09-29  1.0  foo\n2020-09-30  NaN  foo\n2020-10-01  2.0  foo\n2020-10-02  3.0  foo\n2020-10-03  6.0  foo\n2020-10-04  NaN  foo",
      "text/html": "<div>\n<style scoped>\n    .dataframe tbody tr th:only-of-type {\n        vertical-align: middle;\n    }\n\n    .dataframe tbody tr th {\n        vertical-align: top;\n    }\n\n    .dataframe thead th {\n        text-align: right;\n    }\n</style>\n<table border=\"1\" class=\"dataframe\">\n  <thead>\n    <tr style=\"text-align: right;\">\n      <th></th>\n      <th>a</th>\n      <th>c</th>\n    </tr>\n  </thead>\n  <tbody>\n    <tr>\n      <th>2020-09-29</th>\n      <td>1.0</td>\n      <td>foo</td>\n    </tr>\n    <tr>\n      <th>2020-09-30</th>\n      <td>NaN</td>\n      <td>foo</td>\n    </tr>\n    <tr>\n      <th>2020-10-01</th>\n      <td>2.0</td>\n      <td>foo</td>\n    </tr>\n    <tr>\n      <th>2020-10-02</th>\n      <td>3.0</td>\n      <td>foo</td>\n    </tr>\n    <tr>\n      <th>2020-10-03</th>\n      <td>6.0</td>\n      <td>foo</td>\n    </tr>\n    <tr>\n      <th>2020-10-04</th>\n      <td>NaN</td>\n      <td>foo</td>\n    </tr>\n  </tbody>\n</table>\n</div>"
     },
     "execution_count": 115,
     "metadata": {},
     "output_type": "execute_result"
    }
   ],
   "source": [
    "df.dropna(axis=1, thresh=4) #若除了NaN之外还有>=4个值则显示"
   ],
   "metadata": {
    "collapsed": false,
    "pycharm": {
     "name": "#%%\n"
    }
   }
  },
  {
   "cell_type": "code",
   "execution_count": 116,
   "outputs": [
    {
     "data": {
      "text/plain": "               a     b    c\n2020-09-29     1  good  foo\n2020-09-30  good     4  foo\n2020-10-01     2  good  foo\n2020-10-02     3     5  foo\n2020-10-03     6     9  foo\n2020-10-04  good  good  foo",
      "text/html": "<div>\n<style scoped>\n    .dataframe tbody tr th:only-of-type {\n        vertical-align: middle;\n    }\n\n    .dataframe tbody tr th {\n        vertical-align: top;\n    }\n\n    .dataframe thead th {\n        text-align: right;\n    }\n</style>\n<table border=\"1\" class=\"dataframe\">\n  <thead>\n    <tr style=\"text-align: right;\">\n      <th></th>\n      <th>a</th>\n      <th>b</th>\n      <th>c</th>\n    </tr>\n  </thead>\n  <tbody>\n    <tr>\n      <th>2020-09-29</th>\n      <td>1</td>\n      <td>good</td>\n      <td>foo</td>\n    </tr>\n    <tr>\n      <th>2020-09-30</th>\n      <td>good</td>\n      <td>4</td>\n      <td>foo</td>\n    </tr>\n    <tr>\n      <th>2020-10-01</th>\n      <td>2</td>\n      <td>good</td>\n      <td>foo</td>\n    </tr>\n    <tr>\n      <th>2020-10-02</th>\n      <td>3</td>\n      <td>5</td>\n      <td>foo</td>\n    </tr>\n    <tr>\n      <th>2020-10-03</th>\n      <td>6</td>\n      <td>9</td>\n      <td>foo</td>\n    </tr>\n    <tr>\n      <th>2020-10-04</th>\n      <td>good</td>\n      <td>good</td>\n      <td>foo</td>\n    </tr>\n  </tbody>\n</table>\n</div>"
     },
     "execution_count": 116,
     "metadata": {},
     "output_type": "execute_result"
    }
   ],
   "source": [
    "df.fillna('good') # 将数据框 DataFrame 中的所有空值替换为 x"
   ],
   "metadata": {
    "collapsed": false,
    "pycharm": {
     "name": "#%%\n"
    }
   }
  },
  {
   "cell_type": "code",
   "execution_count": 117,
   "outputs": [
    {
     "data": {
      "text/plain": "                a    b    c\n2020-09-29    one  NaN  foo\n2020-09-30    NaN  4.0  foo\n2020-10-01      2  NaN  foo\n2020-10-02  three  5.0  foo\n2020-10-03      6  9.0  foo\n2020-10-04    NaN  NaN  foo",
      "text/html": "<div>\n<style scoped>\n    .dataframe tbody tr th:only-of-type {\n        vertical-align: middle;\n    }\n\n    .dataframe tbody tr th {\n        vertical-align: top;\n    }\n\n    .dataframe thead th {\n        text-align: right;\n    }\n</style>\n<table border=\"1\" class=\"dataframe\">\n  <thead>\n    <tr style=\"text-align: right;\">\n      <th></th>\n      <th>a</th>\n      <th>b</th>\n      <th>c</th>\n    </tr>\n  </thead>\n  <tbody>\n    <tr>\n      <th>2020-09-29</th>\n      <td>one</td>\n      <td>NaN</td>\n      <td>foo</td>\n    </tr>\n    <tr>\n      <th>2020-09-30</th>\n      <td>NaN</td>\n      <td>4.0</td>\n      <td>foo</td>\n    </tr>\n    <tr>\n      <th>2020-10-01</th>\n      <td>2</td>\n      <td>NaN</td>\n      <td>foo</td>\n    </tr>\n    <tr>\n      <th>2020-10-02</th>\n      <td>three</td>\n      <td>5.0</td>\n      <td>foo</td>\n    </tr>\n    <tr>\n      <th>2020-10-03</th>\n      <td>6</td>\n      <td>9.0</td>\n      <td>foo</td>\n    </tr>\n    <tr>\n      <th>2020-10-04</th>\n      <td>NaN</td>\n      <td>NaN</td>\n      <td>foo</td>\n    </tr>\n  </tbody>\n</table>\n</div>"
     },
     "execution_count": 117,
     "metadata": {},
     "output_type": "execute_result"
    }
   ],
   "source": [
    "df.replace([1, 3], ['one', 'three']) # 将数组中所有1替换为'one',3替换成three"
   ],
   "metadata": {
    "collapsed": false,
    "pycharm": {
     "name": "#%%\n"
    }
   }
  },
  {
   "cell_type": "code",
   "execution_count": 118,
   "outputs": [
    {
     "data": {
      "text/plain": "              A    b    C\n2020-09-29  1.0  NaN  foo\n2020-09-30  NaN  4.0  foo\n2020-10-01  2.0  NaN  foo\n2020-10-02  3.0  5.0  foo\n2020-10-03  6.0  9.0  foo\n2020-10-04  NaN  NaN  foo",
      "text/html": "<div>\n<style scoped>\n    .dataframe tbody tr th:only-of-type {\n        vertical-align: middle;\n    }\n\n    .dataframe tbody tr th {\n        vertical-align: top;\n    }\n\n    .dataframe thead th {\n        text-align: right;\n    }\n</style>\n<table border=\"1\" class=\"dataframe\">\n  <thead>\n    <tr style=\"text-align: right;\">\n      <th></th>\n      <th>A</th>\n      <th>b</th>\n      <th>C</th>\n    </tr>\n  </thead>\n  <tbody>\n    <tr>\n      <th>2020-09-29</th>\n      <td>1.0</td>\n      <td>NaN</td>\n      <td>foo</td>\n    </tr>\n    <tr>\n      <th>2020-09-30</th>\n      <td>NaN</td>\n      <td>4.0</td>\n      <td>foo</td>\n    </tr>\n    <tr>\n      <th>2020-10-01</th>\n      <td>2.0</td>\n      <td>NaN</td>\n      <td>foo</td>\n    </tr>\n    <tr>\n      <th>2020-10-02</th>\n      <td>3.0</td>\n      <td>5.0</td>\n      <td>foo</td>\n    </tr>\n    <tr>\n      <th>2020-10-03</th>\n      <td>6.0</td>\n      <td>9.0</td>\n      <td>foo</td>\n    </tr>\n    <tr>\n      <th>2020-10-04</th>\n      <td>NaN</td>\n      <td>NaN</td>\n      <td>foo</td>\n    </tr>\n  </tbody>\n</table>\n</div>"
     },
     "execution_count": 118,
     "metadata": {},
     "output_type": "execute_result"
    }
   ],
   "source": [
    "df.rename(columns={'a':'A', 'c':'C'})"
   ],
   "metadata": {
    "collapsed": false,
    "pycharm": {
     "name": "#%%\n"
    }
   }
  },
  {
   "cell_type": "code",
   "execution_count": 119,
   "outputs": [
    {
     "data": {
      "text/plain": "              1    2    3\n2020-09-29  1.0  NaN  foo\n2020-09-30  NaN  4.0  foo\n2020-10-01  2.0  NaN  foo\n2020-10-02  3.0  5.0  foo\n2020-10-03  6.0  9.0  foo\n2020-10-04  NaN  NaN  foo",
      "text/html": "<div>\n<style scoped>\n    .dataframe tbody tr th:only-of-type {\n        vertical-align: middle;\n    }\n\n    .dataframe tbody tr th {\n        vertical-align: top;\n    }\n\n    .dataframe thead th {\n        text-align: right;\n    }\n</style>\n<table border=\"1\" class=\"dataframe\">\n  <thead>\n    <tr style=\"text-align: right;\">\n      <th></th>\n      <th>1</th>\n      <th>2</th>\n      <th>3</th>\n    </tr>\n  </thead>\n  <tbody>\n    <tr>\n      <th>2020-09-29</th>\n      <td>1.0</td>\n      <td>NaN</td>\n      <td>foo</td>\n    </tr>\n    <tr>\n      <th>2020-09-30</th>\n      <td>NaN</td>\n      <td>4.0</td>\n      <td>foo</td>\n    </tr>\n    <tr>\n      <th>2020-10-01</th>\n      <td>2.0</td>\n      <td>NaN</td>\n      <td>foo</td>\n    </tr>\n    <tr>\n      <th>2020-10-02</th>\n      <td>3.0</td>\n      <td>5.0</td>\n      <td>foo</td>\n    </tr>\n    <tr>\n      <th>2020-10-03</th>\n      <td>6.0</td>\n      <td>9.0</td>\n      <td>foo</td>\n    </tr>\n    <tr>\n      <th>2020-10-04</th>\n      <td>NaN</td>\n      <td>NaN</td>\n      <td>foo</td>\n    </tr>\n  </tbody>\n</table>\n</div>"
     },
     "execution_count": 119,
     "metadata": {},
     "output_type": "execute_result"
    }
   ],
   "source": [
    "df.columns = [1, 2, 3]\n",
    "df"
   ],
   "metadata": {
    "collapsed": false,
    "pycharm": {
     "name": "#%%\n"
    }
   }
  },
  {
   "cell_type": "code",
   "execution_count": 120,
   "outputs": [
    {
     "data": {
      "text/plain": "             1    4    27\n2020-09-29  1.0  NaN  foo\n2020-09-30  NaN  4.0  foo\n2020-10-01  2.0  NaN  foo\n2020-10-02  3.0  5.0  foo\n2020-10-03  6.0  9.0  foo\n2020-10-04  NaN  NaN  foo",
      "text/html": "<div>\n<style scoped>\n    .dataframe tbody tr th:only-of-type {\n        vertical-align: middle;\n    }\n\n    .dataframe tbody tr th {\n        vertical-align: top;\n    }\n\n    .dataframe thead th {\n        text-align: right;\n    }\n</style>\n<table border=\"1\" class=\"dataframe\">\n  <thead>\n    <tr style=\"text-align: right;\">\n      <th></th>\n      <th>1</th>\n      <th>4</th>\n      <th>27</th>\n    </tr>\n  </thead>\n  <tbody>\n    <tr>\n      <th>2020-09-29</th>\n      <td>1.0</td>\n      <td>NaN</td>\n      <td>foo</td>\n    </tr>\n    <tr>\n      <th>2020-09-30</th>\n      <td>NaN</td>\n      <td>4.0</td>\n      <td>foo</td>\n    </tr>\n    <tr>\n      <th>2020-10-01</th>\n      <td>2.0</td>\n      <td>NaN</td>\n      <td>foo</td>\n    </tr>\n    <tr>\n      <th>2020-10-02</th>\n      <td>3.0</td>\n      <td>5.0</td>\n      <td>foo</td>\n    </tr>\n    <tr>\n      <th>2020-10-03</th>\n      <td>6.0</td>\n      <td>9.0</td>\n      <td>foo</td>\n    </tr>\n    <tr>\n      <th>2020-10-04</th>\n      <td>NaN</td>\n      <td>NaN</td>\n      <td>foo</td>\n    </tr>\n  </tbody>\n</table>\n</div>"
     },
     "execution_count": 120,
     "metadata": {},
     "output_type": "execute_result"
    }
   ],
   "source": [
    "df.rename(columns=lambda x:x**x)"
   ],
   "metadata": {
    "collapsed": false,
    "pycharm": {
     "name": "#%%\n"
    }
   }
  },
  {
   "cell_type": "code",
   "execution_count": 121,
   "outputs": [
    {
     "data": {
      "text/plain": "              1    2    3\n2020-09-29  1.0  NaN  foo\n2020-09-30  NaN  4.0  foo\n2020-10-01  2.0  NaN  foo\n2020-10-02  3.0  5.0  foo\n2020-10-03  6.0  9.0  foo\n2020-10-04  NaN  NaN  foo",
      "text/html": "<div>\n<style scoped>\n    .dataframe tbody tr th:only-of-type {\n        vertical-align: middle;\n    }\n\n    .dataframe tbody tr th {\n        vertical-align: top;\n    }\n\n    .dataframe thead th {\n        text-align: right;\n    }\n</style>\n<table border=\"1\" class=\"dataframe\">\n  <thead>\n    <tr style=\"text-align: right;\">\n      <th></th>\n      <th>1</th>\n      <th>2</th>\n      <th>3</th>\n    </tr>\n  </thead>\n  <tbody>\n    <tr>\n      <th>2020-09-29</th>\n      <td>1.0</td>\n      <td>NaN</td>\n      <td>foo</td>\n    </tr>\n    <tr>\n      <th>2020-09-30</th>\n      <td>NaN</td>\n      <td>4.0</td>\n      <td>foo</td>\n    </tr>\n    <tr>\n      <th>2020-10-01</th>\n      <td>2.0</td>\n      <td>NaN</td>\n      <td>foo</td>\n    </tr>\n    <tr>\n      <th>2020-10-02</th>\n      <td>3.0</td>\n      <td>5.0</td>\n      <td>foo</td>\n    </tr>\n    <tr>\n      <th>2020-10-03</th>\n      <td>6.0</td>\n      <td>9.0</td>\n      <td>foo</td>\n    </tr>\n    <tr>\n      <th>2020-10-04</th>\n      <td>NaN</td>\n      <td>NaN</td>\n      <td>foo</td>\n    </tr>\n  </tbody>\n</table>\n</div>"
     },
     "execution_count": 121,
     "metadata": {},
     "output_type": "execute_result"
    }
   ],
   "source": [
    "df.rename(index=lambda x:x)"
   ],
   "metadata": {
    "collapsed": false,
    "pycharm": {
     "name": "#%%\n"
    }
   }
  },
  {
   "cell_type": "markdown",
   "source": [
    "### 数据的过滤(filter),排序(sort)和分组(groupby)"
   ],
   "metadata": {
    "collapsed": false,
    "pycharm": {
     "name": "#%% md\n"
    }
   }
  },
  {
   "cell_type": "code",
   "execution_count": 122,
   "outputs": [
    {
     "data": {
      "text/plain": "              1    2    3\n2020-10-01  2.0  NaN  foo\n2020-10-02  3.0  5.0  foo\n2020-10-03  6.0  9.0  foo",
      "text/html": "<div>\n<style scoped>\n    .dataframe tbody tr th:only-of-type {\n        vertical-align: middle;\n    }\n\n    .dataframe tbody tr th {\n        vertical-align: top;\n    }\n\n    .dataframe thead th {\n        text-align: right;\n    }\n</style>\n<table border=\"1\" class=\"dataframe\">\n  <thead>\n    <tr style=\"text-align: right;\">\n      <th></th>\n      <th>1</th>\n      <th>2</th>\n      <th>3</th>\n    </tr>\n  </thead>\n  <tbody>\n    <tr>\n      <th>2020-10-01</th>\n      <td>2.0</td>\n      <td>NaN</td>\n      <td>foo</td>\n    </tr>\n    <tr>\n      <th>2020-10-02</th>\n      <td>3.0</td>\n      <td>5.0</td>\n      <td>foo</td>\n    </tr>\n    <tr>\n      <th>2020-10-03</th>\n      <td>6.0</td>\n      <td>9.0</td>\n      <td>foo</td>\n    </tr>\n  </tbody>\n</table>\n</div>"
     },
     "execution_count": 122,
     "metadata": {},
     "output_type": "execute_result"
    }
   ],
   "source": [
    "df[df[1] > 1]"
   ],
   "metadata": {
    "collapsed": false,
    "pycharm": {
     "name": "#%%\n"
    }
   }
  },
  {
   "cell_type": "code",
   "execution_count": 123,
   "outputs": [
    {
     "data": {
      "text/plain": "              1    2    3\n2020-10-02  3.0  5.0  foo",
      "text/html": "<div>\n<style scoped>\n    .dataframe tbody tr th:only-of-type {\n        vertical-align: middle;\n    }\n\n    .dataframe tbody tr th {\n        vertical-align: top;\n    }\n\n    .dataframe thead th {\n        text-align: right;\n    }\n</style>\n<table border=\"1\" class=\"dataframe\">\n  <thead>\n    <tr style=\"text-align: right;\">\n      <th></th>\n      <th>1</th>\n      <th>2</th>\n      <th>3</th>\n    </tr>\n  </thead>\n  <tbody>\n    <tr>\n      <th>2020-10-02</th>\n      <td>3.0</td>\n      <td>5.0</td>\n      <td>foo</td>\n    </tr>\n  </tbody>\n</table>\n</div>"
     },
     "execution_count": 123,
     "metadata": {},
     "output_type": "execute_result"
    }
   ],
   "source": [
    "df[(df[1] > 1) & (df[2] < 9)] # 选取数据框df中对应行的数值大于0.5，并且小于0.7的全部列"
   ],
   "metadata": {
    "collapsed": false,
    "pycharm": {
     "name": "#%%\n"
    }
   }
  },
  {
   "cell_type": "code",
   "execution_count": 124,
   "outputs": [
    {
     "data": {
      "text/plain": "              1    2    3\n2020-09-29  1.0  NaN  foo\n2020-10-01  2.0  NaN  foo\n2020-10-02  3.0  5.0  foo\n2020-10-03  6.0  9.0  foo\n2020-09-30  NaN  4.0  foo\n2020-10-04  NaN  NaN  foo",
      "text/html": "<div>\n<style scoped>\n    .dataframe tbody tr th:only-of-type {\n        vertical-align: middle;\n    }\n\n    .dataframe tbody tr th {\n        vertical-align: top;\n    }\n\n    .dataframe thead th {\n        text-align: right;\n    }\n</style>\n<table border=\"1\" class=\"dataframe\">\n  <thead>\n    <tr style=\"text-align: right;\">\n      <th></th>\n      <th>1</th>\n      <th>2</th>\n      <th>3</th>\n    </tr>\n  </thead>\n  <tbody>\n    <tr>\n      <th>2020-09-29</th>\n      <td>1.0</td>\n      <td>NaN</td>\n      <td>foo</td>\n    </tr>\n    <tr>\n      <th>2020-10-01</th>\n      <td>2.0</td>\n      <td>NaN</td>\n      <td>foo</td>\n    </tr>\n    <tr>\n      <th>2020-10-02</th>\n      <td>3.0</td>\n      <td>5.0</td>\n      <td>foo</td>\n    </tr>\n    <tr>\n      <th>2020-10-03</th>\n      <td>6.0</td>\n      <td>9.0</td>\n      <td>foo</td>\n    </tr>\n    <tr>\n      <th>2020-09-30</th>\n      <td>NaN</td>\n      <td>4.0</td>\n      <td>foo</td>\n    </tr>\n    <tr>\n      <th>2020-10-04</th>\n      <td>NaN</td>\n      <td>NaN</td>\n      <td>foo</td>\n    </tr>\n  </tbody>\n</table>\n</div>"
     },
     "execution_count": 124,
     "metadata": {},
     "output_type": "execute_result"
    }
   ],
   "source": [
    "df.sort_values([1, 2], ascending=[True, False]) # 按照数据框的列col1升序(ascending)的方式对数据框df做排序"
   ],
   "metadata": {
    "collapsed": false,
    "pycharm": {
     "name": "#%%\n"
    }
   }
  },
  {
   "cell_type": "code",
   "execution_count": 125,
   "outputs": [
    {
     "data": {
      "text/plain": "     2  3\n1        \n1.0  0  1\n2.0  0  1\n3.0  1  1\n6.0  1  1",
      "text/html": "<div>\n<style scoped>\n    .dataframe tbody tr th:only-of-type {\n        vertical-align: middle;\n    }\n\n    .dataframe tbody tr th {\n        vertical-align: top;\n    }\n\n    .dataframe thead th {\n        text-align: right;\n    }\n</style>\n<table border=\"1\" class=\"dataframe\">\n  <thead>\n    <tr style=\"text-align: right;\">\n      <th></th>\n      <th>2</th>\n      <th>3</th>\n    </tr>\n    <tr>\n      <th>1</th>\n      <th></th>\n      <th></th>\n    </tr>\n  </thead>\n  <tbody>\n    <tr>\n      <th>1.0</th>\n      <td>0</td>\n      <td>1</td>\n    </tr>\n    <tr>\n      <th>2.0</th>\n      <td>0</td>\n      <td>1</td>\n    </tr>\n    <tr>\n      <th>3.0</th>\n      <td>1</td>\n      <td>1</td>\n    </tr>\n    <tr>\n      <th>6.0</th>\n      <td>1</td>\n      <td>1</td>\n    </tr>\n  </tbody>\n</table>\n</div>"
     },
     "execution_count": 125,
     "metadata": {},
     "output_type": "execute_result"
    }
   ],
   "source": [
    "df.groupby(1).count() # 按照某列对数据框df做分组"
   ],
   "metadata": {
    "collapsed": false,
    "pycharm": {
     "name": "#%%\n"
    }
   }
  },
  {
   "cell_type": "code",
   "execution_count": 126,
   "outputs": [
    {
     "data": {
      "text/plain": "         3\n1   2     \n3.0 5.0  1\n6.0 9.0  1",
      "text/html": "<div>\n<style scoped>\n    .dataframe tbody tr th:only-of-type {\n        vertical-align: middle;\n    }\n\n    .dataframe tbody tr th {\n        vertical-align: top;\n    }\n\n    .dataframe thead th {\n        text-align: right;\n    }\n</style>\n<table border=\"1\" class=\"dataframe\">\n  <thead>\n    <tr style=\"text-align: right;\">\n      <th></th>\n      <th></th>\n      <th>3</th>\n    </tr>\n    <tr>\n      <th>1</th>\n      <th>2</th>\n      <th></th>\n    </tr>\n  </thead>\n  <tbody>\n    <tr>\n      <th>3.0</th>\n      <th>5.0</th>\n      <td>1</td>\n    </tr>\n    <tr>\n      <th>6.0</th>\n      <th>9.0</th>\n      <td>1</td>\n    </tr>\n  </tbody>\n</table>\n</div>"
     },
     "execution_count": 126,
     "metadata": {},
     "output_type": "execute_result"
    }
   ],
   "source": [
    "df.groupby([1, 2]).count()"
   ],
   "metadata": {
    "collapsed": false,
    "pycharm": {
     "name": "#%%\n"
    }
   }
  },
  {
   "cell_type": "markdown",
   "source": [
    "### 数据的连接(join)与组合(combine)"
   ],
   "metadata": {
    "collapsed": false,
    "pycharm": {
     "name": "#%% md\n"
    }
   }
  },
  {
   "cell_type": "code",
   "execution_count": 127,
   "outputs": [
    {
     "data": {
      "text/plain": "    A   B   C   D\n0  A0  B0  C0  D0\n1  A1  B1  C1  D1\n2  A2  B2  C2  D2\n3  A3  B3  C3  D3\n4  A4  B4  C4  D4\n5  A5  B5  C5  D5\n6  A6  B6  C6  D6\n7  A7  B7  C7  D7",
      "text/html": "<div>\n<style scoped>\n    .dataframe tbody tr th:only-of-type {\n        vertical-align: middle;\n    }\n\n    .dataframe tbody tr th {\n        vertical-align: top;\n    }\n\n    .dataframe thead th {\n        text-align: right;\n    }\n</style>\n<table border=\"1\" class=\"dataframe\">\n  <thead>\n    <tr style=\"text-align: right;\">\n      <th></th>\n      <th>A</th>\n      <th>B</th>\n      <th>C</th>\n      <th>D</th>\n    </tr>\n  </thead>\n  <tbody>\n    <tr>\n      <th>0</th>\n      <td>A0</td>\n      <td>B0</td>\n      <td>C0</td>\n      <td>D0</td>\n    </tr>\n    <tr>\n      <th>1</th>\n      <td>A1</td>\n      <td>B1</td>\n      <td>C1</td>\n      <td>D1</td>\n    </tr>\n    <tr>\n      <th>2</th>\n      <td>A2</td>\n      <td>B2</td>\n      <td>C2</td>\n      <td>D2</td>\n    </tr>\n    <tr>\n      <th>3</th>\n      <td>A3</td>\n      <td>B3</td>\n      <td>C3</td>\n      <td>D3</td>\n    </tr>\n    <tr>\n      <th>4</th>\n      <td>A4</td>\n      <td>B4</td>\n      <td>C4</td>\n      <td>D4</td>\n    </tr>\n    <tr>\n      <th>5</th>\n      <td>A5</td>\n      <td>B5</td>\n      <td>C5</td>\n      <td>D5</td>\n    </tr>\n    <tr>\n      <th>6</th>\n      <td>A6</td>\n      <td>B6</td>\n      <td>C6</td>\n      <td>D6</td>\n    </tr>\n    <tr>\n      <th>7</th>\n      <td>A7</td>\n      <td>B7</td>\n      <td>C7</td>\n      <td>D7</td>\n    </tr>\n  </tbody>\n</table>\n</div>"
     },
     "execution_count": 127,
     "metadata": {},
     "output_type": "execute_result"
    }
   ],
   "source": [
    "df1 = pd.DataFrame({'A': ['A0', 'A1', 'A2', 'A3'],\n",
    "                    'B': ['B0', 'B1', 'B2', 'B3'],\n",
    "                    'C': ['C0', 'C1', 'C2', 'C3'],\n",
    "                    'D': ['D0', 'D1', 'D2', 'D3']},\n",
    "                   index=[0, 1, 2, 3])\n",
    "df2 = pd.DataFrame({'A': ['A4', 'A5', 'A6', 'A7'],\n",
    "                    'B': ['B4', 'B5', 'B6', 'B7'],\n",
    "                    'C': ['C4', 'C5', 'C6', 'C7'],\n",
    "                    'D': ['D4', 'D5', 'D6', 'D7']},\n",
    "                   index=[4, 5, 6, 7])\n",
    "\n",
    "df1.append(df2)"
   ],
   "metadata": {
    "collapsed": false,
    "pycharm": {
     "name": "#%%\n"
    }
   }
  },
  {
   "cell_type": "code",
   "execution_count": 128,
   "outputs": [
    {
     "data": {
      "text/plain": "     A    B    C    D    A    B    C    D\n0   A0   B0   C0   D0  NaN  NaN  NaN  NaN\n1   A1   B1   C1   D1  NaN  NaN  NaN  NaN\n2   A2   B2   C2   D2  NaN  NaN  NaN  NaN\n3   A3   B3   C3   D3  NaN  NaN  NaN  NaN\n4  NaN  NaN  NaN  NaN   A4   B4   C4   D4\n5  NaN  NaN  NaN  NaN   A5   B5   C5   D5\n6  NaN  NaN  NaN  NaN   A6   B6   C6   D6\n7  NaN  NaN  NaN  NaN   A7   B7   C7   D7",
      "text/html": "<div>\n<style scoped>\n    .dataframe tbody tr th:only-of-type {\n        vertical-align: middle;\n    }\n\n    .dataframe tbody tr th {\n        vertical-align: top;\n    }\n\n    .dataframe thead th {\n        text-align: right;\n    }\n</style>\n<table border=\"1\" class=\"dataframe\">\n  <thead>\n    <tr style=\"text-align: right;\">\n      <th></th>\n      <th>A</th>\n      <th>B</th>\n      <th>C</th>\n      <th>D</th>\n      <th>A</th>\n      <th>B</th>\n      <th>C</th>\n      <th>D</th>\n    </tr>\n  </thead>\n  <tbody>\n    <tr>\n      <th>0</th>\n      <td>A0</td>\n      <td>B0</td>\n      <td>C0</td>\n      <td>D0</td>\n      <td>NaN</td>\n      <td>NaN</td>\n      <td>NaN</td>\n      <td>NaN</td>\n    </tr>\n    <tr>\n      <th>1</th>\n      <td>A1</td>\n      <td>B1</td>\n      <td>C1</td>\n      <td>D1</td>\n      <td>NaN</td>\n      <td>NaN</td>\n      <td>NaN</td>\n      <td>NaN</td>\n    </tr>\n    <tr>\n      <th>2</th>\n      <td>A2</td>\n      <td>B2</td>\n      <td>C2</td>\n      <td>D2</td>\n      <td>NaN</td>\n      <td>NaN</td>\n      <td>NaN</td>\n      <td>NaN</td>\n    </tr>\n    <tr>\n      <th>3</th>\n      <td>A3</td>\n      <td>B3</td>\n      <td>C3</td>\n      <td>D3</td>\n      <td>NaN</td>\n      <td>NaN</td>\n      <td>NaN</td>\n      <td>NaN</td>\n    </tr>\n    <tr>\n      <th>4</th>\n      <td>NaN</td>\n      <td>NaN</td>\n      <td>NaN</td>\n      <td>NaN</td>\n      <td>A4</td>\n      <td>B4</td>\n      <td>C4</td>\n      <td>D4</td>\n    </tr>\n    <tr>\n      <th>5</th>\n      <td>NaN</td>\n      <td>NaN</td>\n      <td>NaN</td>\n      <td>NaN</td>\n      <td>A5</td>\n      <td>B5</td>\n      <td>C5</td>\n      <td>D5</td>\n    </tr>\n    <tr>\n      <th>6</th>\n      <td>NaN</td>\n      <td>NaN</td>\n      <td>NaN</td>\n      <td>NaN</td>\n      <td>A6</td>\n      <td>B6</td>\n      <td>C6</td>\n      <td>D6</td>\n    </tr>\n    <tr>\n      <th>7</th>\n      <td>NaN</td>\n      <td>NaN</td>\n      <td>NaN</td>\n      <td>NaN</td>\n      <td>A7</td>\n      <td>B7</td>\n      <td>C7</td>\n      <td>D7</td>\n    </tr>\n  </tbody>\n</table>\n</div>"
     },
     "execution_count": 128,
     "metadata": {},
     "output_type": "execute_result"
    }
   ],
   "source": [
    "df1 = pd.DataFrame({'A': ['A0', 'A1', 'A2', 'A3'],\n",
    "                    'B': ['B0', 'B1', 'B2', 'B3'],\n",
    "                    'C': ['C0', 'C1', 'C2', 'C3'],\n",
    "                    'D': ['D0', 'D1', 'D2', 'D3']},\n",
    "                   index=[0, 1, 2, 3])\n",
    "df2 = pd.DataFrame({'A': ['A4', 'A5', 'A6', 'A7'],\n",
    "                    'B': ['B4', 'B5', 'B6', 'B7'],\n",
    "                    'C': ['C4', 'C5', 'C6', 'C7'],\n",
    "                    'D': ['D4', 'D5', 'D6', 'D7']},\n",
    "                   index=[4, 5, 6, 7])\n",
    "pd.concat([df1,df2],axis=1) # 在数据框df1的列最后添加数据框df2,其中df1和df2的行数应该相等"
   ],
   "metadata": {
    "collapsed": false,
    "pycharm": {
     "name": "#%%\n"
    }
   }
  },
  {
   "cell_type": "code",
   "execution_count": 129,
   "outputs": [
    {
     "data": {
      "text/plain": "    A   B key   C   D\n0  A0  B0  K0  C0  D0\n1  A1  B1  K1  C1  D1\n2  A2  B2  K0  C0  D0\n3  A3  B3  K1  C1  D1",
      "text/html": "<div>\n<style scoped>\n    .dataframe tbody tr th:only-of-type {\n        vertical-align: middle;\n    }\n\n    .dataframe tbody tr th {\n        vertical-align: top;\n    }\n\n    .dataframe thead th {\n        text-align: right;\n    }\n</style>\n<table border=\"1\" class=\"dataframe\">\n  <thead>\n    <tr style=\"text-align: right;\">\n      <th></th>\n      <th>A</th>\n      <th>B</th>\n      <th>key</th>\n      <th>C</th>\n      <th>D</th>\n    </tr>\n  </thead>\n  <tbody>\n    <tr>\n      <th>0</th>\n      <td>A0</td>\n      <td>B0</td>\n      <td>K0</td>\n      <td>C0</td>\n      <td>D0</td>\n    </tr>\n    <tr>\n      <th>1</th>\n      <td>A1</td>\n      <td>B1</td>\n      <td>K1</td>\n      <td>C1</td>\n      <td>D1</td>\n    </tr>\n    <tr>\n      <th>2</th>\n      <td>A2</td>\n      <td>B2</td>\n      <td>K0</td>\n      <td>C0</td>\n      <td>D0</td>\n    </tr>\n    <tr>\n      <th>3</th>\n      <td>A3</td>\n      <td>B3</td>\n      <td>K1</td>\n      <td>C1</td>\n      <td>D1</td>\n    </tr>\n  </tbody>\n</table>\n</div>"
     },
     "execution_count": 129,
     "metadata": {},
     "output_type": "execute_result"
    }
   ],
   "source": [
    "df1 = pd.DataFrame({'A': ['A0', 'A1', 'A2', 'A3'],\n",
    "                     'B': ['B0', 'B1', 'B2', 'B3'],\n",
    "                     'key': ['K0', 'K1', 'K0', 'K1']})\n",
    "\n",
    "\n",
    "df2 = pd.DataFrame({'C': ['C0', 'C1'],\n",
    "                      'D': ['D0', 'D1']},\n",
    "                     index=['K0', 'K1'])\n",
    "\n",
    "\n",
    "df1.join(df2, on='key') # 对数据框df1和df2做内连接，其中连接的列为col1"
   ],
   "metadata": {
    "collapsed": false,
    "pycharm": {
     "name": "#%%\n"
    }
   }
  },
  {
   "cell_type": "code",
   "execution_count": 129,
   "outputs": [],
   "source": [],
   "metadata": {
    "collapsed": false,
    "pycharm": {
     "name": "#%%\n"
    }
   }
  }
 ],
 "metadata": {
  "kernelspec": {
   "name": "python38",
   "language": "python",
   "display_name": "Python38"
  },
  "language_info": {
   "codemirror_mode": {
    "name": "ipython",
    "version": 2
   },
   "file_extension": ".py",
   "mimetype": "text/x-python",
   "name": "python",
   "nbconvert_exporter": "python",
   "pygments_lexer": "ipython2",
   "version": "2.7.6"
  }
 },
 "nbformat": 4,
 "nbformat_minor": 0
}